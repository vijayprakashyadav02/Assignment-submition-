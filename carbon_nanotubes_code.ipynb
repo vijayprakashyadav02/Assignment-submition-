{
  "nbformat": 4,
  "nbformat_minor": 0,
  "metadata": {
    "colab": {
      "provenance": [],
      "authorship_tag": "ABX9TyNG2GEcZLztvUPbVdU/xtFn",
      "include_colab_link": true
    },
    "kernelspec": {
      "name": "python3",
      "display_name": "Python 3"
    },
    "language_info": {
      "name": "python"
    }
  },
  "cells": [
    {
      "cell_type": "markdown",
      "metadata": {
        "id": "view-in-github",
        "colab_type": "text"
      },
      "source": [
        "<a href=\"https://colab.research.google.com/github/vijayprakashyadav02/Assignment-submition-/blob/main/carbon_nanotubes_code.ipynb\" target=\"_parent\"><img src=\"https://colab.research.google.com/assets/colab-badge.svg\" alt=\"Open In Colab\"/></a>"
      ]
    },
    {
      "cell_type": "code",
      "source": [
        "import pandas as pd\n",
        "\n",
        "# Read in the CSV file\n",
        "df = pd.read_csv('/carbon_nanotubes (1).csv')\n",
        "\n",
        "# View the first five rows of the dataset\n",
        "print(df.head())\n"
      ],
      "metadata": {
        "colab": {
          "base_uri": "https://localhost:8080/"
        },
        "id": "FtXphhqCiEzb",
        "outputId": "719cb343-f81b-4c8f-f8ee-93728024c684"
      },
      "execution_count": null,
      "outputs": [
        {
          "output_type": "stream",
          "name": "stdout",
          "text": [
            "                                                    Chiral indice n;Chiral indice m;Initial atomic coordinate u;Initial atomic coordinate v;Initial atomic coordinate w;Calculated atomic coordinates u';Calculated atomic coordinates v';Calculated atomic coordinates w'\n",
            "2;1;0 679005;0 701318;0 017033;0 721039;0 730232;0                                            17014.0                                                                                                                                                                     \n",
            "      717298;0 642129;0 231319;0 738414;0 65675;0                                            232369.0                                                                                                                                                                     \n",
            "      489336;0 303751;0 088462;0 477676;0 263221;0                                            88712.0                                                                                                                                                                     \n",
            "      413957;0 632996;0 040843;0 408823;0 657897;0                                            39796.0                                                                                                                                                                     \n",
            "      334292;0 543401;0 15989;0  303349;0 558807;0                                           157373.0                                                                                                                                                                     \n"
          ]
        }
      ]
    },
    {
      "cell_type": "code",
      "source": [
        "import pandas as pd\n",
        "from sklearn.model_selection import train_test_split\n",
        "from sklearn.preprocessing import StandardScaler\n",
        "from sklearn.linear_model import LogisticRegression\n",
        "from sklearn.tree import DecisionTreeClassifier\n",
        "from sklearn.ensemble import RandomForestClassifier\n",
        "from sklearn.metrics import accuracy_score\n",
        "\n",
        "# Load the dataset\n",
        "df = pd.read_csv('/carbon_nanotubes (1).csv')\n",
        "\n",
        "# Check if the target variable exists in the dataset\n",
        "if 'target_variable_name' not in df.columns:\n",
        "    print(\"Error: 'target_variable_name' not found in dataset columns.\")\n",
        "else:\n",
        "    # Drop any missing values\n",
        "    df.dropna(inplace=True)\n",
        "\n",
        "    # Split the dataset into features and target variable\n",
        "    X = df.drop('target_variable_name', axis=1)\n",
        "    y = df['target_variable_name']\n",
        "\n",
        "    # Standardize the feature values\n",
        "    scaler = StandardScaler()\n",
        "    X = scaler.fit_transform(X)\n",
        "\n",
        "    # Split the dataset into training and testing sets\n",
        "    X_train, X_test, y_train, y_test = train_test_split(X, y, test_size=0.2, random_state=42)\n",
        "\n",
        "    # Fit and evaluate three classification models\n",
        "    models = {\n",
        "        'Logistic Regression': LogisticRegression(),\n",
        "        'Decision Tree': DecisionTreeClassifier(),\n",
        "        'Random Forest': RandomForestClassifier(n_estimators=100)\n",
        "    }\n",
        "\n",
        "    for name, model in models.items():\n",
        "        model.fit(X_train, y_train)\n",
        "        y_pred = model.predict(X_test)\n",
        "        accuracy = accuracy_score(y_test, y_pred)\n",
        "        print(f\"{name} accuracy: {accuracy}\")\n"
      ],
      "metadata": {
        "colab": {
          "base_uri": "https://localhost:8080/"
        },
        "id": "b43FSLuJBzAB",
        "outputId": "de6bc74d-8cd0-43bc-8e91-48ae90f26a00"
      },
      "execution_count": null,
      "outputs": [
        {
          "output_type": "stream",
          "name": "stdout",
          "text": [
            "Error: 'target_variable_name' not found in dataset columns.\n"
          ]
        }
      ]
    },
    {
      "cell_type": "code",
      "source": [],
      "metadata": {
        "id": "IJ_5fLJRHajZ"
      },
      "execution_count": null,
      "outputs": []
    }
  ]
}